{
 "metadata": {
  "name": "",
  "signature": "sha256:8087b679d2ec43cff4cc75cf5f086e8c49abae7175e88f27ca72dde623919ac4"
 },
 "nbformat": 3,
 "nbformat_minor": 0,
 "worksheets": [
  {
   "cells": [
    {
     "cell_type": "code",
     "collapsed": false,
     "input": [
      "import random\n",
      "import numpy as np\n",
      "import pandas as pd\n",
      "import matplotlib.pyplot as plt\n",
      "%matplotlib inline\n",
      "import seaborn as sns\n",
      "sns.set_style(\"white\")\n",
      "from IPython.display import HTML\n",
      "import warnings\n",
      "warnings.filterwarnings('ignore')\n",
      "moat_orange = '#F48930'"
     ],
     "language": "python",
     "metadata": {},
     "outputs": [],
     "prompt_number": 3
    },
    {
     "cell_type": "markdown",
     "metadata": {},
     "source": [
      "<br><tt>https://github.com/moat/datahackathon2015</tt>\n",
      "\n",
      "***"
     ]
    },
    {
     "cell_type": "code",
     "collapsed": false,
     "input": [
      "HTML('''<img src=\"img/moat_logo_bitmap.jpg\" width=300px>''')"
     ],
     "language": "python",
     "metadata": {},
     "outputs": [
      {
       "html": [
        "<img src=\"img/moat_logo_bitmap.jpg\" width=300px>"
       ],
       "metadata": {},
       "output_type": "pyout",
       "prompt_number": 68,
       "text": [
        "<IPython.core.display.HTML at 0x7f249813f050>"
       ]
      }
     ],
     "prompt_number": 68
    },
    {
     "cell_type": "markdown",
     "metadata": {},
     "source": [
      "***\n",
      "\n",
      "Streaming Data Processing @ MOAT\n",
      "====\n",
      "\n",
      ">* ####Real Time Big Data Analytics (for advertisers and publishers)\n",
      ">* ####13 billion requests per day \n",
      ">* ####<font color='#F48930'>150,000 requests per second</font> (which was Twitter's record as of 2013)\n",
      ">* ####A real-time interface\n",
      "\n",
      "***"
     ]
    },
    {
     "cell_type": "markdown",
     "metadata": {},
     "source": [
      "Streaming vs Batch Processing\n",
      "----"
     ]
    },
    {
     "cell_type": "markdown",
     "metadata": {},
     "source": [
      ">###Batch\n",
      "\n",
      ">* ####Total amount of data is known\n",
      ">* ####Processed at once (possibly at end of day or during an ETL)\n",
      ">* ####Generally no data available until entire process completes\n",
      ">* ####Immune to peaks and valleys in real data streams (daily variations, twitter spike, slashdot effect)"
     ]
    },
    {
     "cell_type": "markdown",
     "metadata": {},
     "source": [
      ">###Streaming\n",
      "\n",
      ">* ####Unknown quantity (and diversity) of data\n",
      ">* ####Real time responses are a possibility (meaning up to date data is continuously available)\n",
      "\n",
      "***"
     ]
    },
    {
     "cell_type": "code",
     "collapsed": false,
     "input": [
      "HTML('''<img src=\"img/stats_cache_cpu.png\" width=500px>''')"
     ],
     "language": "python",
     "metadata": {},
     "outputs": [
      {
       "html": [
        "<img src=\"img/stats_cache_cpu.png\" width=500px>"
       ],
       "metadata": {},
       "output_type": "pyout",
       "prompt_number": 69,
       "text": [
        "<IPython.core.display.HTML at 0x7f2498131c50>"
       ]
      }
     ],
     "prompt_number": 69
    },
    {
     "cell_type": "markdown",
     "metadata": {},
     "source": [
      "Streaming strategies\n",
      "----"
     ]
    },
    {
     "cell_type": "markdown",
     "metadata": {},
     "source": [
      ">###The simplest stream solution\n",
      ">* ####Single consumer/worker\n",
      ">* ####Scaling only via code optimizations\n",
      ">* ####No redundancy (if that worker fails you lose data)"
     ]
    },
    {
     "cell_type": "markdown",
     "metadata": {},
     "source": [
      ">###The ideal solution\n",
      ">* ####Arbitrary number of producers/consumers.\n",
      ">* ####Scaling both both number of requests processed per second and memory consumption of process."
     ]
    },
    {
     "cell_type": "markdown",
     "metadata": {},
     "source": [
      "A few public data sources:\n",
      "----\n",
      "\n",
      ">* **[UC Irvine Machine Learning Repository](http://archive.ics.uci.edu/ml/)**:\n",
      ">    * Classic data sets with references to publications they appear in.\n",
      ">* **[MTA real-time feeds](http://datamine.mta.info/)**:\n",
      ">    * Real-time data on subways, buses, turnstile usage... even escalators!\n",
      ">* **[Past Kaggle competitions](http://www.kaggle.com/competitions)**:\n",
      ">    * Data sets from completed Kaggle competitions.\n",
      ">* **[NYC Open Data](https://nycopendata.socrata.com/)**\n",
      ">    * Hundreds of data sets from city agencies.\n",
      "\n",
      "***"
     ]
    },
    {
     "cell_type": "code",
     "collapsed": false,
     "input": [
      "HTML('''\n",
      "<h1><u>What is NYC complaining about?</u></h1>\n",
      "<img src='img/all.png' width=500px>\n",
      "''')"
     ],
     "language": "python",
     "metadata": {},
     "outputs": [
      {
       "html": [
        "\n",
        "<h1><u>What is NYC complaining about?</u></h1>\n",
        "<img src='img/all.png' width=500px>\n"
       ],
       "metadata": {},
       "output_type": "pyout",
       "prompt_number": 70,
       "text": [
        "<IPython.core.display.HTML at 0x7f24981313d0>"
       ]
      }
     ],
     "prompt_number": 70
    },
    {
     "cell_type": "markdown",
     "metadata": {},
     "source": [
      "The data source\n",
      "----"
     ]
    },
    {
     "cell_type": "markdown",
     "metadata": {},
     "source": [
      ">###New Yorkers can submit <font color='#F48930'>complaints</font> to 311\n",
      ">  * ####air quality\n",
      ">  * ####potholes\n",
      ">  * ####noisy neighbors\n",
      ">  * ####and so on..."
     ]
    },
    {
     "cell_type": "markdown",
     "metadata": {},
     "source": [
      ">###NYC Open Data hosts 311 complaint data.\n",
      "> * #### <font color='#F48930'>Data from 2010 to the present</font>\n",
      "> * #### Updated daily\n",
      "> * #### Labeled by complaint type (e.g. \"Pothole\")\n",
      "> * #### Labeled by precise location\n",
      "\n",
      "***"
     ]
    },
    {
     "cell_type": "markdown",
     "metadata": {},
     "source": [
      "Example complaint data\n",
      "----"
     ]
    },
    {
     "cell_type": "raw",
     "metadata": {},
     "source": [
      "{\n",
      "    \"Address Type\": \"ADDRESS\",\n",
      "    \"Agency\": \"NYPD\",\n",
      "    \"Agency Name\": \"New York City Police Department\",\n",
      "    \"Borough\": \"QUEENS\",\n",
      "    \"City\": \"CAMBRIA HEIGHTS\",\n",
      "    \"Community Board\": \"13 QUEENS\",\n",
      "    \"Complaint Type\": \"Illegal Parking\",\n",
      "    \"Created Date\": \"03/04/2015 02:10:41 AM\",\n",
      "    \"Cross Street 1\": \"119 AVENUE\",\n",
      "    \"Cross Street 2\": \"120 AVENUE\",\n",
      "    \"Descriptor\": \"Blocked Hydrant\",\n",
      "    \"Due Date\": \"03/04/2015 10:10:41 AM\",\n",
      "    \"Facility Type\": \"Precinct\",\n",
      "    \"Incident Address\": \"119-26 221 STREET\",\n",
      "    \"Incident Zip\": \"11411\",\n",
      "    \"Latitude\": \"40.691034828558166\",\n",
      "    \"Location\": \"(40.691034828558166, -73.74128230250588)\",\n",
      "    \"Location Type\": \"Street/Sidewalk\",\n",
      "    \"Longitude\": \"-73.74128230250588\",\n",
      "    \"Park Borough\": \"QUEENS\",\n",
      "    \"Resolution Action Updated Date\": \"03/04/2015 03:05:21 AM\",\n",
      "    \"School Not Found\": \"N\",\n",
      "    \"Status\": \"Assigned\",\n",
      "    \"Street Name\": \"221 STREET\",\n",
      "    \"Unique Key\": \"30076753\",\n",
      "    \"X Coordinate (State Plane)\": \"1055997\",\n",
      "    \"Y Coordinate (State Plane)\": \"191145\"\n",
      "}"
     ]
    },
    {
     "cell_type": "code",
     "collapsed": false,
     "input": [
      "from src import tcp_server, client\n",
      "reload(tcp_server);\n",
      "reload(client);\n",
      "import json\n",
      "from time import sleep"
     ],
     "language": "python",
     "metadata": {},
     "outputs": [],
     "prompt_number": 31
    },
    {
     "cell_type": "code",
     "collapsed": false,
     "input": [
      "ports = {\n",
      "    'random': 8081,\n",
      "    'by_data': 8082,\n",
      "    'two_tier': 8083\n",
      "}"
     ],
     "language": "python",
     "metadata": {},
     "outputs": [],
     "prompt_number": 32
    },
    {
     "cell_type": "code",
     "collapsed": false,
     "input": [
      "def plot_counts(method):\n",
      "    counts = client.query('get_counts', ports[method])\n",
      "    _plot(counts, 'Complaints processed')\n",
      "\n",
      "def plot_cards(method):\n",
      "    cards = client.query('get_cardinality', ports[method])\n",
      "    _plot(cards, 'Complaint types seen')\n",
      "    \n",
      "def _plot(items, title):\n",
      "    sns.set_style('ticks')\n",
      "    plt.bar(range(len(items)), items, color='#AAAAAA')\n",
      "    sns.despine()\n",
      "    plt.tick_params(axis='x', which='both', bottom='off', top='off', \n",
      "                    labelbottom='off')\n",
      "    plt.tick_params(axis='y', labelsize=16)\n",
      "    plt.locator_params(nbins=3)\n",
      "    plt.title(title, fontsize=20);"
     ],
     "language": "python",
     "metadata": {},
     "outputs": [],
     "prompt_number": 33
    },
    {
     "cell_type": "markdown",
     "metadata": {},
     "source": [
      "The approach(es)\n",
      "----\n",
      ">####We must choose <font color='#F48930'>how to distribute the data</font> across *N* compute nodes.\n",
      "\n",
      "***\n",
      "\n",
      "\n",
      "\n",
      "Solution 1: Random\n",
      "----\n",
      ">####For each record (complaint), we:\n",
      ">1. ####Choose an integer *i* between 1 and *N* at random.\n",
      ">2. ####Send the record to node *i* for processing."
     ]
    },
    {
     "cell_type": "code",
     "collapsed": false,
     "input": [
      "HTML('''<img src='dot/random.png' width=350px>''')"
     ],
     "language": "python",
     "metadata": {},
     "outputs": [
      {
       "html": [
        "<img src='dot/random.png' width=350px>"
       ],
       "metadata": {},
       "output_type": "pyout",
       "prompt_number": 34,
       "text": [
        "<IPython.core.display.HTML at 0x7f16b187a090>"
       ]
      }
     ],
     "prompt_number": 34
    },
    {
     "cell_type": "code",
     "collapsed": false,
     "input": [
      "plot_counts('random')"
     ],
     "language": "python",
     "metadata": {},
     "outputs": [
      {
       "metadata": {},
       "output_type": "display_data",
       "png": "[encoded data removed]",
       "text": [
        "<matplotlib.figure.Figure at 0x7f16b10bd490>"
       ]
      }
     ],
     "prompt_number": 81
    },
    {
     "cell_type": "code",
     "collapsed": false,
     "input": [
      "plot_cards('random')"
     ],
     "language": "python",
     "metadata": {},
     "outputs": [
      {
       "metadata": {},
       "output_type": "display_data",
       "png": "[encoded data removed]",
       "text": [
        "<matplotlib.figure.Figure at 0x7f16b144f850>"
       ]
      }
     ],
     "prompt_number": 87
    },
    {
     "cell_type": "markdown",
     "metadata": {},
     "source": [
      "###But what if memory is very limited?\n",
      "\n",
      "####Note that every complaint type is represented on every worker node.\n",
      "\n",
      "***\n",
      "\n",
      "Solution 2: Sharding on complaint type\n",
      "----\n",
      ">####For each record, we:\n",
      ">1. ####Hash the complaint type to an integer *i* between 1 and *N*\n",
      ">2. ####Send the record to worker *i* for processing."
     ]
    },
    {
     "cell_type": "code",
     "collapsed": false,
     "input": [
      "HTML('''<img src='dot/sharded.png' width=350px>''')"
     ],
     "language": "python",
     "metadata": {},
     "outputs": [
      {
       "html": [
        "<img src='dot/sharded.png' width=350px>"
       ],
       "metadata": {},
       "output_type": "pyout",
       "prompt_number": 38,
       "text": [
        "<IPython.core.display.HTML at 0x7f16b16c2ad0>"
       ]
      }
     ],
     "prompt_number": 38
    },
    {
     "cell_type": "code",
     "collapsed": false,
     "input": [
      "plot_counts('by_data')"
     ],
     "language": "python",
     "metadata": {},
     "outputs": [
      {
       "metadata": {},
       "output_type": "display_data",
       "png": "[encoded data removed]",
       "text": [
        "<matplotlib.figure.Figure at 0x7f16b1871d10>"
       ]
      }
     ],
     "prompt_number": 82
    },
    {
     "cell_type": "code",
     "collapsed": false,
     "input": [
      "plot_cards('by_data')"
     ],
     "language": "python",
     "metadata": {},
     "outputs": [
      {
       "metadata": {},
       "output_type": "display_data",
       "png": "[encoded data removed]",
       "text": [
        "<matplotlib.figure.Figure at 0x7f16b0fa7650>"
       ]
      }
     ],
     "prompt_number": 83
    },
    {
     "cell_type": "markdown",
     "metadata": {},
     "source": [
      "###But what if a compute node fails?\n",
      "\n",
      "####We'd lose <font color='#F48930'>all information</font> about any location mapped to that node.\n",
      "\n",
      "####Maybe we should have two tiers.\n",
      "\n",
      "***\n",
      "\n",
      "Solution 3: Sharding with redundancy\n",
      "----\n",
      ">####For each record, we:\n",
      ">1. ####Hash some non-location field(s) to an integer *i* between 1 and *N*\n",
      ">2. ####Send the record to node *i* for processing."
     ]
    },
    {
     "cell_type": "code",
     "collapsed": false,
     "input": [
      "HTML('''<img src='dot/redundant_sharding.png' width=350px>''')"
     ],
     "language": "python",
     "metadata": {},
     "outputs": [
      {
       "html": [
        "<img src='dot/redundant_sharding.png' width=350px>"
       ],
       "metadata": {},
       "output_type": "pyout",
       "prompt_number": 73,
       "text": [
        "<IPython.core.display.HTML at 0x7f2498131490>"
       ]
      }
     ],
     "prompt_number": 73
    },
    {
     "cell_type": "code",
     "collapsed": false,
     "input": [
      "plot_counts('two_tier')"
     ],
     "language": "python",
     "metadata": {},
     "outputs": [
      {
       "metadata": {},
       "output_type": "display_data",
       "png": "[encoded data removed]",
       "text": [
        "<matplotlib.figure.Figure at 0x7f16b12aa110>"
       ]
      }
     ],
     "prompt_number": 91
    },
    {
     "cell_type": "code",
     "collapsed": false,
     "input": [
      "plot_cards('two_tier')"
     ],
     "language": "python",
     "metadata": {},
     "outputs": [
      {
       "metadata": {},
       "output_type": "display_data",
       "png": "[encoded data removed]",
       "text": [
        "<matplotlib.figure.Figure at 0x7f16b120a5d0>"
       ]
      }
     ],
     "prompt_number": 90
    },
    {
     "cell_type": "markdown",
     "metadata": {},
     "source": [
      "###But what if the sharding values are very non-uniformly distributed?\n",
      "\n",
      "####We'd be making poor use of our CPUs.\n",
      "\n",
      "***\n",
      "\n",
      "Solution 4: Find the most uniformly distributed field to shard on.\n",
      "----\n",
      "\n",
      "***"
     ]
    },
    {
     "cell_type": "code",
     "collapsed": false,
     "input": [
      "HTML('''<h1><u>So, what is NYC complaining about?</u></h1>''')"
     ],
     "language": "python",
     "metadata": {},
     "outputs": [
      {
       "html": [
        "<h1><u>So, what is NYC complaining about?</u></h1>"
       ],
       "metadata": {},
       "output_type": "pyout",
       "prompt_number": 121,
       "text": [
        "<IPython.core.display.HTML at 0x7f249723e3d0>"
       ]
      }
     ],
     "prompt_number": 121
    },
    {
     "cell_type": "code",
     "collapsed": false,
     "input": [
      "n = 10\n",
      "data = client.query('get_data', ports['random'])\n",
      "merged_data = client.query('get', ports['random'])\n",
      "top_complaints = {}\n",
      "for i in sorted(merged_data.iterkeys(), \n",
      "                key=lambda x: merged_data[x], reverse=True)[:n]:\n",
      "    top_complaints[i] = merged_data[i]"
     ],
     "language": "python",
     "metadata": {},
     "outputs": [],
     "prompt_number": 93
    },
    {
     "cell_type": "code",
     "collapsed": false,
     "input": [
      "s = pd.Series(merged_data)\n",
      "s.sort(ascending=False)\n",
      "s.head(n).plot(kind='bar', rot=45, color=moat_orange)"
     ],
     "language": "python",
     "metadata": {},
     "outputs": [
      {
       "metadata": {},
       "output_type": "pyout",
       "prompt_number": 118,
       "text": [
        "<matplotlib.axes.AxesSubplot at 0x7f16aed103d0>"
       ]
      },
      {
       "metadata": {},
       "output_type": "display_data",
       "png": "[encoded data removed]",
       "text": [
        "<matplotlib.figure.Figure at 0x7f16aed1b350>"
       ]
      }
     ],
     "prompt_number": 118
    },
    {
     "cell_type": "code",
     "collapsed": false,
     "input": [
      "def graph_methods(query):\n",
      "    x = [i + 0.2 for i in range(3)]\n",
      "    z = [i + 0.6 for i in range(3)]\n",
      "\n",
      "    y = []\n",
      "    for method in ports:\n",
      "        y.append(client.query(query, ports[method]))\n",
      "\n",
      "    y = np.array(y).T\n",
      "\n",
      "    for i,row in enumerate(y):\n",
      "        plt.bar([xx + i*.2 for xx in x ], row, width=0.2)\n",
      "\n",
      "    plt.xticks(z, ['Random', 'Sharded', 'With redundancy'])\n",
      "    \n",
      "graph_methods('get_counts')"
     ],
     "language": "python",
     "metadata": {},
     "outputs": [
      {
       "metadata": {},
       "output_type": "display_data",
       "png": "[encoded data removed]",
       "text": [
        "<matplotlib.figure.Figure at 0x7f16ae8c53d0>"
       ]
      }
     ],
     "prompt_number": 156
    },
    {
     "cell_type": "code",
     "collapsed": false,
     "input": [
      "graph_methods('get_cardinality')"
     ],
     "language": "python",
     "metadata": {},
     "outputs": [
      {
       "metadata": {},
       "output_type": "display_data",
       "png": "[encoded data removed]",
       "text": [
        "<matplotlib.figure.Figure at 0x7f16aed1b290>"
       ]
      }
     ],
     "prompt_number": 157
    },
    {
     "cell_type": "markdown",
     "metadata": {},
     "source": [
      "To sum up\n",
      "----\n",
      ">* ####Sharding can help conserve memory.\n",
      ">* ####Sharding can increase robustness to failure.\n",
      ">* ####Uniformly distributing data across nodes makes better use of CPUs."
     ]
    },
    {
     "cell_type": "code",
     "collapsed": false,
     "input": [
      "HTML('''<h1>Email us at <a href=mailto:data@moat.com>data@moat.com</a></h1>''')"
     ],
     "language": "python",
     "metadata": {},
     "outputs": [
      {
       "html": [
        "<h1>Email us at <a href=mailto:data@moat.com>data@moat.com</a></h1>"
       ],
       "metadata": {},
       "output_type": "pyout",
       "prompt_number": 116,
       "text": [
        "<IPython.core.display.HTML at 0x7f16b0ba75d0>"
       ]
      }
     ],
     "prompt_number": 116
    }
   ],
   "metadata": {}
  }
 ]
}